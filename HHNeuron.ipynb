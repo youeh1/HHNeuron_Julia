{
 "cells": [
  {
   "cell_type": "code",
   "execution_count": 1,
   "metadata": {},
   "outputs": [],
   "source": [
    "using PyPlot"
   ]
  },
  {
   "cell_type": "code",
   "execution_count": 2,
   "metadata": {},
   "outputs": [
    {
     "data": {
      "text/plain": [
       "n_potassium (generic function with 1 method)"
      ]
     },
     "execution_count": 2,
     "metadata": {},
     "output_type": "execute_result"
    }
   ],
   "source": [
    "function n_potassium(v, v_rest)\n",
    "    an = (0.1-0.01*(v-v_rest))/(exp(1-0.1*(v-v_rest))-1);\n",
    "    bn = 0.125*exp((v_rest-v)/80);\n",
    "    return an,bn\n",
    "end"
   ]
  },
  {
   "cell_type": "code",
   "execution_count": 3,
   "metadata": {},
   "outputs": [
    {
     "data": {
      "text/plain": [
       "m_sodium (generic function with 1 method)"
      ]
     },
     "execution_count": 3,
     "metadata": {},
     "output_type": "execute_result"
    }
   ],
   "source": [
    "function m_sodium(v,v_rest)\n",
    "    am = (2.5-0.1*(v-v_rest))/(exp(2.5-0.1*(v-v_rest))-1);\n",
    "    bm = 4*exp((v_rest-v)/18);\n",
    "    return am,bm\n",
    "end"
   ]
  },
  {
   "cell_type": "code",
   "execution_count": 4,
   "metadata": {},
   "outputs": [
    {
     "data": {
      "text/plain": [
       "h_sodium (generic function with 1 method)"
      ]
     },
     "execution_count": 4,
     "metadata": {},
     "output_type": "execute_result"
    }
   ],
   "source": [
    "function h_sodium(v,v_rest)\n",
    "    ah = 0.07*exp((v_rest-v)/20);\n",
    "    bh = 1/(1+exp(3-0.1*(v-v_rest)));\n",
    "    return ah,bh\n",
    "end"
   ]
  },
  {
   "cell_type": "code",
   "execution_count": null,
   "metadata": {},
   "outputs": [],
   "source": []
  },
  {
   "cell_type": "code",
   "execution_count": 5,
   "metadata": {},
   "outputs": [
    {
     "data": {
      "text/plain": [
       "HHNeuron (generic function with 1 method)"
      ]
     },
     "execution_count": 5,
     "metadata": {},
     "output_type": "execute_result"
    }
   ],
   "source": [
    "function HHNeuron(v_rest,totalTime,dt,currAmp,currdur)\n",
    "    \n",
    "    v_rest = -65.0;\n",
    "    dt = 0.01; # ms\n",
    "    c = 1; # uF/cm2\n",
    "\n",
    "    # constants\n",
    "    ENa = 115 + v_rest;\n",
    "    EK = -6 + v_rest;\n",
    "    EL = 10.6 + v_rest;\n",
    "\n",
    "    gNabar = 120;\n",
    "    gKbar = 36;\n",
    "    gLbar = 0.3;\n",
    "\n",
    "    t = 0:dt:totalTime;\n",
    "\n",
    "    # initialize\n",
    "    v = [v_rest];\n",
    "\n",
    "    an,bn = n_potassium(v[end],v_rest);\n",
    "    am,bm = m_sodium(v[end],v_rest);\n",
    "    ah,bh = h_sodium(v[end],v_rest);\n",
    "\n",
    "    n = [an/(an+bn)];\n",
    "    m = [am/(am+bm)];\n",
    "    h = [ah/(ah+bh)];\n",
    "    \n",
    "    for i = 1:length(t)-1\n",
    "        an,bn = n_potassium(v[end],v_rest);\n",
    "        am,bm = m_sodium(v[end],v_rest);\n",
    "        ah,bh = h_sodium(v[end],v_rest);\n",
    "    \n",
    "        gK = gKbar*n[end]^4;\n",
    "        gNa = gNabar*m[end]^3*h[end];\n",
    "    \n",
    "        iK = gK*(v[end]-EK);\n",
    "        iNa = gNa*(v[end]-ENa);\n",
    "        iL = gLbar*(v[end]-EL);\n",
    "    \n",
    "        if i > currDur[1] && i <currDur[2]\n",
    "            I = currAmp;\n",
    "        else\n",
    "            I = 0;\n",
    "        end\n",
    "       \n",
    "        input = I -(iK + iNa + iL);\n",
    "    \n",
    "        push!(v,(v[end]+ input*dt*(1/c)));\n",
    "        push!(n,(n[end]+ (an*(1-n[end]) - bn*n[end])*dt));\n",
    "        push!(m,(m[end]+ (am*(1-m[end]) - bm*m[end])*dt));\n",
    "        push!(h,(h[end]+ (ah*(1-h[end]) - bh*h[end])*dt));\n",
    "    end\n",
    "    return t,v\n",
    "end\n"
   ]
  },
  {
   "cell_type": "code",
   "execution_count": 48,
   "metadata": {},
   "outputs": [],
   "source": [
    "v_rest = 65.0;\n",
    "totalTime = 200;\n",
    "dt = 0.01;\n",
    "currAmp = 10;\n",
    "currDur = [100,102]./dt;\n",
    "\n",
    "t,v = HHNeuron(v_rest,totalTime,dt,currAmp,currDur);\n"
   ]
  },
  {
   "cell_type": "code",
   "execution_count": 49,
   "metadata": {},
   "outputs": [
    {
     "data": {
      "image/png": "[encoded data removed]",
      "text/plain": [
       "Figure(PyObject <Figure size 640x480 with 1 Axes>)"
      ]
     },
     "metadata": {},
     "output_type": "display_data"
    },
    {
     "data": {
      "text/plain": [
       "1-element Array{PyCall.PyObject,1}:\n",
       " PyObject <matplotlib.lines.Line2D object at 0x7f3f4410ad30>"
      ]
     },
     "execution_count": 49,
     "metadata": {},
     "output_type": "execute_result"
    }
   ],
   "source": [
    "plot(v[9500:12000])"
   ]
  },
  {
   "cell_type": "code",
   "execution_count": null,
   "metadata": {},
   "outputs": [],
   "source": []
  },
  {
   "cell_type": "code",
   "execution_count": null,
   "metadata": {},
   "outputs": [],
   "source": []
  },
  {
   "cell_type": "code",
   "execution_count": null,
   "metadata": {},
   "outputs": [],
   "source": []
  },
  {
   "cell_type": "code",
   "execution_count": null,
   "metadata": {},
   "outputs": [],
   "source": []
  },
  {
   "cell_type": "code",
   "execution_count": null,
   "metadata": {},
   "outputs": [],
   "source": [
    "\n"
   ]
  },
  {
   "cell_type": "code",
   "execution_count": null,
   "metadata": {},
   "outputs": [],
   "source": []
  },
  {
   "cell_type": "code",
   "execution_count": null,
   "metadata": {},
   "outputs": [],
   "source": []
  },
  {
   "cell_type": "code",
   "execution_count": null,
   "metadata": {},
   "outputs": [],
   "source": []
  },
  {
   "cell_type": "code",
   "execution_count": null,
   "metadata": {},
   "outputs": [],
   "source": []
  },
  {
   "cell_type": "code",
   "execution_count": null,
   "metadata": {},
   "outputs": [],
   "source": []
  },
  {
   "cell_type": "code",
   "execution_count": null,
   "metadata": {},
   "outputs": [],
   "source": []
  },
  {
   "cell_type": "code",
   "execution_count": null,
   "metadata": {},
   "outputs": [],
   "source": [
    "\n"
   ]
  },
  {
   "cell_type": "code",
   "execution_count": null,
   "metadata": {},
   "outputs": [],
   "source": [
    "   "
   ]
  },
  {
   "cell_type": "code",
   "execution_count": null,
   "metadata": {},
   "outputs": [],
   "source": []
  },
  {
   "cell_type": "code",
   "execution_count": null,
   "metadata": {},
   "outputs": [],
   "source": []
  },
  {
   "cell_type": "code",
   "execution_count": null,
   "metadata": {},
   "outputs": [],
   "source": []
  },
  {
   "cell_type": "code",
   "execution_count": null,
   "metadata": {},
   "outputs": [],
   "source": []
  }
 ],
 "metadata": {
  "kernelspec": {
   "display_name": "Julia 1.0.2",
   "language": "julia",
   "name": "julia-1.0"
  },
  "language_info": {
   "file_extension": ".jl",
   "mimetype": "application/julia",
   "name": "julia",
   "version": "1.0.2"
  }
 },
 "nbformat": 4,
 "nbformat_minor": 2
}
