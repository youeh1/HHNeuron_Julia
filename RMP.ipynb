{
 "cells": [
  {
   "cell_type": "code",
   "execution_count": null,
   "metadata": {},
   "outputs": [],
   "source": [
    "using PyPlot"
   ]
  },
  {
   "cell_type": "code",
   "execution_count": 2,
   "metadata": {},
   "outputs": [
    {
     "data": {
      "text/plain": [
       "0.00029"
      ]
     },
     "execution_count": 2,
     "metadata": {},
     "output_type": "execute_result"
    }
   ],
   "source": [
    "memArea_um = 29000; # um2\n",
    "memArea_cm = memArea_um/10^8; "
   ]
  },
  {
   "cell_type": "code",
   "execution_count": 3,
   "metadata": {},
   "outputs": [],
   "source": [
    "# um = 10-6 m\n",
    "# cm = 10 -2 m\n",
    "\n",
    "# 1 cm2 = 10^8 um2\n",
    "# 29000\n",
    "\n",
    "# 0.00029 uF\n",
    "# = 0.29 nF\n"
   ]
  },
  {
   "cell_type": "code",
   "execution_count": 4,
   "metadata": {},
   "outputs": [],
   "source": [
    "# input capacitance\n",
    "\n",
    "ci = 0.29; # nF\n"
   ]
  },
  {
   "cell_type": "code",
   "execution_count": 5,
   "metadata": {},
   "outputs": [],
   "source": [
    "# nernst potential of each ion (mV)\n",
    "\n",
    "ENa = 45;\n",
    "EK = -80;\n"
   ]
  },
  {
   "cell_type": "code",
   "execution_count": 7,
   "metadata": {},
   "outputs": [],
   "source": [
    "# conductance of leak channels for resting memebrne potential\n",
    "gleakNa = 15;\n",
    "gleakK = 6;\n",
    "\n"
   ]
  },
  {
   "cell_type": "code",
   "execution_count": 8,
   "metadata": {},
   "outputs": [
    {
     "data": {
      "text/plain": [
       "iNa_leak (generic function with 1 method)"
      ]
     },
     "execution_count": 8,
     "metadata": {},
     "output_type": "execute_result"
    }
   ],
   "source": [
    "function iNa_leak(v,ENa,gleakNa)\n",
    "    ina = gleakNa*(v-ENa);\n",
    "    return ina\n",
    "end"
   ]
  },
  {
   "cell_type": "code",
   "execution_count": 9,
   "metadata": {},
   "outputs": [
    {
     "data": {
      "text/plain": [
       "iK_leak (generic function with 1 method)"
      ]
     },
     "execution_count": 9,
     "metadata": {},
     "output_type": "execute_result"
    }
   ],
   "source": [
    "function iK_leak(v,EK,gleakK)\n",
    "    ik = gleakK*(v-EK);\n",
    "    return ik\n",
    "end"
   ]
  },
  {
   "cell_type": "code",
   "execution_count": 14,
   "metadata": {},
   "outputs": [
    {
     "data": {
      "text/plain": [
       "resting_membrane_potential (generic function with 1 method)"
      ]
     },
     "execution_count": 14,
     "metadata": {},
     "output_type": "execute_result"
    }
   ],
   "source": [
    "function resting_membrane_potential()\n",
    "    \n",
    "    ci = 0.29; # nF\n",
    "    \n",
    "    # nernst potential of each ion (mV)\n",
    "    ENa = 45;\n",
    "    EK = -80;\n",
    "    \n",
    "    # conductance of leak channels for resting memebrne potential\n",
    "    gleakNa = 6;\n",
    "    gleakK = 15;\n",
    "    \n",
    "    v =[-70.0];\n",
    "    \n",
    "    dt = 0.01\n",
    "    totalTime = 100;\n",
    "    \n",
    "    t = 0:dt:totalTime;\n",
    "    \n",
    "    for i = 1:length(t)-1\n",
    "        \n",
    "        dvdt = (-iNa_leak(v[end],ENa,gleakNa)-iK_leak(v[end],EK,gleakK))/0.29;\n",
    "    \n",
    "        curr_v = v[end]+ dvdt*dt;\n",
    "        push!(v,curr_v);\n",
    "    end\n",
    "    \n",
    "    return t,v\n",
    "end\n",
    "    \n",
    "    "
   ]
  },
  {
   "cell_type": "code",
   "execution_count": 16,
   "metadata": {},
   "outputs": [],
   "source": [
    "resting_membrane_potential();\n"
   ]
  },
  {
   "cell_type": "code",
   "execution_count": 17,
   "metadata": {},
   "outputs": [
    {
     "ename": "ArgumentError",
     "evalue": "ArgumentError: Package PyPlot not found in current path:\n- Run `import Pkg; Pkg.add(\"PyPlot\")` to install the PyPlot package.\n",
     "output_type": "error",
     "traceback": [
      "ArgumentError: Package PyPlot not found in current path:\n- Run `import Pkg; Pkg.add(\"PyPlot\")` to install the PyPlot package.\n",
      "",
      "Stacktrace:",
      " [1] require(::Module, ::Symbol) at .\\loading.jl:823",
      " [2] top-level scope at In[17]:1"
     ]
    }
   ],
   "source": []
  },
  {
   "cell_type": "code",
   "execution_count": 18,
   "metadata": {},
   "outputs": [],
   "source": [
    "using Pkg"
   ]
  },
  {
   "cell_type": "code",
   "execution_count": 19,
   "metadata": {},
   "outputs": [
    {
     "name": "stdout",
     "output_type": "stream",
     "text": [
      "\u001b[32m\u001b[1m  Updating\u001b[22m\u001b[39m registry at `C:\\Users\\jaehp\\.julia\\registries\\General`\n",
      "\u001b[32m\u001b[1m  Updating\u001b[22m\u001b[39m git-repo `https://github.com/JuliaRegistries/General.git`\n",
      "\u001b[2K\u001b[36m\u001b[1mFetching:\u001b[22m\u001b[39m [========================================>]  99.9 %0.0 % %\u001b[36m\u001b[1mFetching:\u001b[22m\u001b[39m [=>                                       ]  2.2 %.9 % [==>                                      ]  4.7 %\u001b[36m\u001b[1mFetching:\u001b[22m\u001b[39m [===>                                     ]  7.1 %4 %                                    ]  7.8 %.3 % [====>                                    ]  9.0 % %====>                                    ]  9.9 % %\u001b[36m\u001b[1mFetching:\u001b[22m\u001b[39m [=====>                                   ]  11.3 %>                                   ]  12.0 %\u001b[36m\u001b[1mFetching:\u001b[22m\u001b[39m [======>                                  ]  12.6 %14.6 %                                 ]  15.1 %\u001b[36m\u001b[1mFetching:\u001b[22m\u001b[39m [=======>                                 ]  16.0 %                                 ]  17.4 % [========>                                ]  18.3 %\u001b[36m\u001b[1mFetching:\u001b[22m\u001b[39m [========>                                ]  19.5 %3 %.7 % % % [===========>                             ]  25.6 %1 %                            ]  27.7 %\u001b[36m\u001b[1mFetching:\u001b[22m\u001b[39m [============>                            ]  28.0 %                            ]  28.6 %\u001b[36m\u001b[1mFetching:\u001b[22m\u001b[39m [============>                            ]  29.0 %]  29.8 %\u001b[36m\u001b[1mFetching:\u001b[22m\u001b[39m [=============>                           ]  30.2 %\u001b[36m\u001b[1mFetching:\u001b[22m\u001b[39m [=============>                           ]  30.8 %.3 %32.3 % %]  34.4 % [===============>                         ]  35.8 % % % %================>                        ]  39.7 %\u001b[36m\u001b[1mFetching:\u001b[22m\u001b[39m [=================>                       ]  41.4 %.1 %]  43.3 % %                      ]  44.2 %==================>                      ]  44.9 %6 %                    ]  48.3 %]  48.9 %>                    ]  49.5 % %5 %\u001b[36m\u001b[1mFetching:\u001b[22m\u001b[39m [=====================>                   ]  52.3 %======================>                  ]  52.7 %.3 %.5 %>                 ]  56.3 % [=======================>                 ]  57.0 %.2 %.0 %\u001b[36m\u001b[1mFetching:\u001b[22m\u001b[39m [=========================>               ]  60.8 %\u001b[36m\u001b[1mFetching:\u001b[22m\u001b[39m [=========================>               ]  61.2 % %\u001b[36m\u001b[1mFetching:\u001b[22m\u001b[39m [==========================>              ]  62.5 % % %.5 %\u001b[36m\u001b[1mFetching:\u001b[22m\u001b[39m [===========================>             ]  65.4 %4 %>            ]  69.0 %]  69.8 %=============================>           ]  70.3 % [=============================>           ]  72.4 % % %]  75.2 %\u001b[36m\u001b[1mFetching:\u001b[22m\u001b[39m [===============================>         ]  75.8 %.0 %7 %80.7 %\u001b[36m\u001b[1mFetching:\u001b[22m\u001b[39m [=================================>       ]  81.3 %\u001b[36m\u001b[1mFetching:\u001b[22m\u001b[39m [=================================>       ]  81.5 % %\u001b[36m\u001b[1mFetching:\u001b[22m\u001b[39m [==================================>      ]  82.9 %0 %.6 %==================================>      ]  84.8 %===================================>     ]  86.3 %====================================>    ]  89.6 %=====================================>   ]  90.9 %\u001b[36m\u001b[1mFetching:\u001b[22m\u001b[39m [=====================================>   ]  92.1 % %1 %>  ]  94.7 % [======================================>  ]  95.0 %\u001b[36m\u001b[1mFetching:\u001b[22m\u001b[39m [=======================================> ]  95.7 % ]  96.3 %.4 %\u001b[36m\u001b[1mFetching:\u001b[22m\u001b[39m [========================================>]  97.8 %]  98.5 %99.0 % [========================================>]  99.6 %\u001b[?25h\u001b[32m\u001b[1m Resolving\u001b[22m\u001b[39m package versions...\n",
      "\u001b[32m\u001b[1m Installed\u001b[22m\u001b[39m Reexport ────────── v0.2.0\n",
      "\u001b[32m\u001b[1m Installed\u001b[22m\u001b[39m LaTeXStrings ────── v1.0.3\n",
      "\u001b[32m\u001b[1m Installed\u001b[22m\u001b[39m PyPlot ──────────── v2.6.3\n",
      "\u001b[32m\u001b[1m Installed\u001b[22m\u001b[39m SoftGlobalScope ─── v1.0.8\n",
      "\u001b[32m\u001b[1m Installed\u001b[22m\u001b[39m FixedPointNumbers ─ v0.5.3\n",
      "\u001b[32m\u001b[1m Installed\u001b[22m\u001b[39m ColorTypes ──────── v0.7.5\n",
      "\u001b[32m\u001b[1m Installed\u001b[22m\u001b[39m MacroTools ──────── v0.4.4\n",
      "\u001b[32m\u001b[1m Installed\u001b[22m\u001b[39m PyCall ──────────── v1.18.5\n",
      "\u001b[32m\u001b[1m Installed\u001b[22m\u001b[39m Colors ──────────── v0.9.5\n",
      "\u001b[32m\u001b[1m  Updating\u001b[22m\u001b[39m `C:\\Users\\jaehp\\.julia\\environments\\v1.0\\Project.toml`\n",
      " \u001b[90m [d330b81b]\u001b[39m\u001b[92m + PyPlot v2.6.3\u001b[39m\n",
      "\u001b[32m\u001b[1m  Updating\u001b[22m\u001b[39m `C:\\Users\\jaehp\\.julia\\environments\\v1.0\\Manifest.toml`\n",
      " \u001b[90m [3da002f7]\u001b[39m\u001b[92m + ColorTypes v0.7.5\u001b[39m\n",
      " \u001b[90m [5ae59095]\u001b[39m\u001b[92m + Colors v0.9.5\u001b[39m\n",
      " \u001b[90m [53c48c17]\u001b[39m\u001b[92m + FixedPointNumbers v0.5.3\u001b[39m\n",
      " \u001b[90m [b964fa9f]\u001b[39m\u001b[92m + LaTeXStrings v1.0.3\u001b[39m\n",
      " \u001b[90m [1914dd2f]\u001b[39m\u001b[92m + MacroTools v0.4.4\u001b[39m\n",
      " \u001b[90m [438e738f]\u001b[39m\u001b[92m + PyCall v1.18.5\u001b[39m\n",
      " \u001b[90m [d330b81b]\u001b[39m\u001b[92m + PyPlot v2.6.3\u001b[39m\n",
      " \u001b[90m [189a3867]\u001b[39m\u001b[92m + Reexport v0.2.0\u001b[39m\n",
      " \u001b[90m [b85f4697]\u001b[39m\u001b[93m ↑ SoftGlobalScope v1.0.7 ⇒ v1.0.8\u001b[39m\n",
      "\u001b[32m\u001b[1m  Building\u001b[22m\u001b[39m PyCall → `C:\\Users\\jaehp\\.julia\\packages\\PyCall\\0jMpb\\deps\\build.log`\n"
     ]
    }
   ],
   "source": [
    "Pkg.add(\"PyPlot\")"
   ]
  },
  {
   "cell_type": "code",
   "execution_count": null,
   "metadata": {},
   "outputs": [],
   "source": []
  }
 ],
 "metadata": {
  "kernelspec": {
   "display_name": "Julia 1.0.2",
   "language": "julia",
   "name": "julia-1.0"
  },
  "language_info": {
   "file_extension": ".jl",
   "mimetype": "application/julia",
   "name": "julia",
   "version": "1.0.2"
  }
 },
 "nbformat": 4,
 "nbformat_minor": 2
}
